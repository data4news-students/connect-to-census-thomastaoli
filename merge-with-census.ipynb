{
 "cells": [
  {
   "cell_type": "markdown",
   "metadata": {},
   "source": [
    "# Notebook Title"
   ]
  },
  {
   "cell_type": "markdown",
   "metadata": {},
   "source": [
    "## Setup Python and R environment\n",
    "you can ignore this section"
   ]
  },
  {
   "cell_type": "code",
   "execution_count": 1,
   "metadata": {},
   "outputs": [],
   "source": [
    "%load_ext rpy2.ipython\n",
    "%load_ext autoreload\n",
    "%autoreload 2\n",
    "\n",
    "%matplotlib inline  \n",
    "from matplotlib import rcParams\n",
    "rcParams['figure.figsize'] = (16, 100)\n",
    "\n",
    "import warnings\n",
    "from rpy2.rinterface import RRuntimeWarning\n",
    "warnings.filterwarnings(\"ignore\") # Ignore all warnings\n",
    "# warnings.filterwarnings(\"ignore\", category=RRuntimeWarning) # Show some warnings\n",
    "\n",
    "import pandas as pd\n",
    "import numpy as np\n",
    "import matplotlib.pyplot as plt\n",
    "from IPython.display import display, HTML"
   ]
  },
  {
   "cell_type": "code",
   "execution_count": 2,
   "metadata": {},
   "outputs": [
    {
     "data": {
      "application/javascript": "// Disable auto-scrolling\nIPython.OutputArea.prototype._should_scroll = function(lines) {\n    return false;\n}\n",
      "text/plain": [
       "<IPython.core.display.Javascript object>"
      ]
     },
     "metadata": {},
     "output_type": "display_data"
    }
   ],
   "source": [
    "%%javascript\n",
    "// Disable auto-scrolling\n",
    "IPython.OutputArea.prototype._should_scroll = function(lines) {\n",
    "    return false;\n",
    "}"
   ]
  },
  {
   "cell_type": "code",
   "execution_count": 3,
   "metadata": {},
   "outputs": [
    {
     "name": "stdout",
     "output_type": "stream",
     "text": [
      "── Attaching core tidyverse packages ──────────────────────── tidyverse 2.0.0 ──\n",
      "✔ dplyr     1.1.4     ✔ readr     2.1.5\n",
      "✔ forcats   1.0.0     ✔ stringr   1.5.1\n",
      "✔ ggplot2   3.4.4     ✔ tibble    3.2.1\n",
      "✔ lubridate 1.9.3     ✔ tidyr     1.3.0\n",
      "✔ purrr     1.0.2     \n",
      "── Conflicts ────────────────────────────────────────── tidyverse_conflicts() ──\n",
      "✖ dplyr::filter() masks stats::filter()\n",
      "✖ dplyr::lag()    masks stats::lag()\n",
      "ℹ Use the conflicted package (<http://conflicted.r-lib.org/>) to force all conflicts to become errors\n"
     ]
    },
    {
     "data": {
      "text/plain": [
       "Loading required package: tidyverse\n",
       "In addition: Warning messages:\n",
       "1: package ‘readr’ was built under R version 4.2.3 \n",
       "2: package ‘dplyr’ was built under R version 4.2.3 \n",
       "3: package ‘stringr’ was built under R version 4.2.3 \n"
      ]
     },
     "metadata": {},
     "output_type": "display_data"
    }
   ],
   "source": [
    "%%R\n",
    "\n",
    "# My commonly used R imports\n",
    "\n",
    "require('tidyverse')"
   ]
  },
  {
   "cell_type": "markdown",
   "metadata": {},
   "source": [
    "## Load & Clean Data\n",
    "\n",
    "👉 Load the data along with the census connectors below (the output of the `connect-to-census.ipynb` notebook) and do any cleanup you'd like to do."
   ]
  },
  {
   "cell_type": "code",
   "execution_count": 4,
   "metadata": {},
   "outputs": [],
   "source": [
    "%%R\n",
    "\n",
    "# Load the mortgage_data_asian.csv\n",
    "\n",
    "mortgage_data_asian <- read.csv('mortgage_data_asian.csv')\n",
    "\n",
    "# Clean all the census_tract that is NA\n",
    "mortgage_data_asian <- mortgage_data_asian %>% \n",
    "    filter(!is.na(census_tract))"
   ]
  },
  {
   "cell_type": "code",
   "execution_count": 5,
   "metadata": {},
   "outputs": [
    {
     "name": "stdout",
     "output_type": "stream",
     "text": [
      "  activity_year census_tract loan_type loan_purpose loan_amount income\n",
      "1          2022  36091061401         1            1       75000     NA\n",
      "2          2022  36003951301         1            1      145000     NA\n",
      "3          2022  36013037400         1            1       75000     NA\n",
      "4          2022  36075020400         1"
     ]
    },
    {
     "name": "stdout",
     "output_type": "stream",
     "text": [
      "            1      125000     NA\n",
      "5          2022  36001014803         1            1      165000     NA\n",
      "6          2022  36063024001         1            1      325000     NA\n",
      "  property_value applicant_race.1 co.applicant_race.1 applicant_sex\n",
      "1          75000                7                   7             4\n",
      "2         145000                7                   7             4\n",
      "3         115000                7                   7             4\n",
      "4         175000                7                   7             4\n",
      "5          75000                7                   7             4\n",
      "6          65000                7                   7             4\n",
      "  co.applicant_sex applicant_age co.applicant_age\n",
      "1                4          8888             8888\n",
      "2                4          8888             8888\n",
      "3                4          8888             8888\n",
      "4                4          8888             8888\n",
      "5                4          8888             8888\n",
      "6                4          8888             8888\n"
     ]
    }
   ],
   "source": [
    "%%R\n",
    "\n",
    "# Show the first few rows of the mortgage_data_asian\n",
    "\n",
    "head(mortgage_data_asian)"
   ]
  },
  {
   "cell_type": "markdown",
   "metadata": {},
   "source": [
    "## 👉 Grab Census Data"
   ]
  },
  {
   "cell_type": "markdown",
   "metadata": {},
   "source": [
    "1. loading the Census API key"
   ]
  },
  {
   "cell_type": "code",
   "execution_count": 6,
   "metadata": {},
   "outputs": [
    {
     "data": {
      "text/plain": [
       "False"
      ]
     },
     "execution_count": 6,
     "metadata": {},
     "output_type": "execute_result"
    }
   ],
   "source": [
    "import dotenv\n",
    "\n",
    "# Load the environment variables\n",
    "# (loads CENSUS_API_KEY from .env)\n",
    "dotenv.load_dotenv()\n"
   ]
  },
  {
   "cell_type": "code",
   "execution_count": 7,
   "metadata": {},
   "outputs": [
    {
     "data": {
      "text/plain": [
       "Loading required package: tidycensus\n",
       "To install your API key for use in future sessions, run this function with `install = TRUE`.\n",
       "In addition: Warning message:\n",
       "package ‘tidycensus’ was built under R version 4.2.3 \n"
      ]
     },
     "metadata": {},
     "output_type": "display_data"
    }
   ],
   "source": [
    "%%R \n",
    "\n",
    "require('tidycensus')\n",
    "\n",
    "# because it an environment variable, we don't have to \n",
    "# explicitly pass this string to R, it is readable here\n",
    "# in this R cell.\n",
    "census_api_key(Sys.getenv(\"97779d587a8fdba4e4f7f7d3eec838313d5b07ab\"))"
   ]
  },
  {
   "cell_type": "markdown",
   "metadata": {},
   "source": [
    "2. Decide which Census variables you want\n",
    "\n",
    "    Use <https://censusreporter.org/> to figure out which tables you want. (if censusreporter is down, check out the code in the cell below)\n",
    "\n",
    "    -   Scroll to the bottom of the page to see the tables.\n",
    "    -   If you already know the table ID, stick that in the \"Explore\" section to learn more about that table.\n",
    "\n",
    "    By default this code loads (B01003_001) which we found in censusreporter here: https://censusreporter.org/tables/B01003/\n",
    "\n",
    "    - find some other variables that you're also interested in\n",
    "    - don't forget to pick a geography like \"tract\", \"county\" or \"block group\". here is the list of [all geographies](https://walker-data.com/tidycensus/articles/basic-usage.html#geography-in-tidycensus\n",
    "    ).\n"
   ]
  },
  {
   "cell_type": "code",
   "execution_count": 8,
   "metadata": {},
   "outputs": [
    {
     "name": "stdout",
     "output_type": "stream",
     "text": [
      "# A tibble: 46 × 3\n",
      "   name         label                                                    concept\n",
      "   <chr>        <chr>                                                    <chr>  \n",
      " 1 B06011PR_001 Estimate!!Median income in the past 12 months --!!Total: Median…\n",
      " 2 B06011PR_002 Estimate!!Median income in the past 12 months --!!Total… Median…\n",
      " 3 B06011PR_003 Estimate!!Median income in the past 12 months --!!Total… Median…\n",
      " 4 B06011PR_004 Estimate!!Median income in the past 12 months --!!Total… Median…\n",
      " 5 B06011PR_005 Estimate!!Median income in the past 12 months --!!Total… Median…\n",
      " 6 B06011_001   Estimate!!Median income in the past 12 months --!!Total: Median…\n",
      " 7 B06011_002   Estimate!!Median income in the past 12 months --!!Total… Median…\n",
      " 8 B06011_003   Estimate!!Median income in the past 12 months --!!Total… Median…\n",
      " 9 B06011_004   Estimate!!Median income in the past 12 months --!!Total… Median…\n",
      "10 B06011_005   Estimate!!Median income in the past 12 months --!!Total… Median…\n",
      "11 B07011PR_001 Estimate!!Median income in the past 12 months --!!Total: Median…\n",
      "12 B07011PR_002 Estimate!!Median income in the past 12 months --!!Total… Median…\n",
      "13 B07011PR_003 Estimate!!Median income in the past 12 months --!!Total… Median…\n",
      "14 B07011PR_004 Estimate!!Median income in the past 12 months --!!Total… Median…\n",
      "15 B07011PR_005 Estimate!!Median income in the past 12 months --!!Total… Median…\n",
      "16 B07011PR_006 Estimate!!Median income in the past 12 months --!!Total… Median…\n",
      "17 B07011_001   Estimate!!Median income in the past 12 months --!!Total: Median…\n",
      "18 B07011_002   Estimate!!Median income in the past 12 months --!!Total… Median…\n",
      "19 B07011_003   Estimate!!Median income in the past 12 months --!!Total… Median…\n",
      "20 B07011_004   Estimate!!Median income in the past 12 months --!!Total… Median…\n",
      "# ℹ 26 more rows\n",
      "# ℹ Use `print(n = ...)` to see more rows\n"
     ]
    }
   ],
   "source": [
    "%%R \n",
    "\n",
    "# Finding the Census Varaibles for the ACS 5 year survey\n",
    "# Generall you'd do this in CensusReporter, but since it's down sometimes, here it is using tidycensus's load_variables function\n",
    "\n",
    "# get every single variable in the ACS5\n",
    "all_census_vars <- load_variables(2022, \"acs5\", cache = TRUE) \n",
    "\n",
    "filtered_census_vars <- all_census_vars %>% \n",
    "    filter(grepl(\"median income\",label, ignore.case = TRUE))   # filter to those containing \"median income\"\n",
    "    \n",
    "# write to CSV so we can view it in python\n",
    "filtered_census_vars %>% \n",
    "    write_csv(\"filtered_census_vars.csv\")\n",
    "\n",
    "# show the first few rows\n",
    "filtered_census_vars %>%\n",
    "    select(-geography) %>% # remove the geography column\n",
    "    print(n = 20) # print the first 20 rows"
   ]
  },
  {
   "cell_type": "code",
   "execution_count": 17,
   "metadata": {},
   "outputs": [
    {
     "name": "stdout",
     "output_type": "stream",
     "text": [
      "# A tibble: 27,055 × 5\n",
      "   GEOID       NAME                                     variable estimate    moe\n",
      "   <chr>       <chr>                                    <chr>       <dbl>  <dbl>\n",
      " 1 36001000100 Census Tract 1; Albany County; New York  med_age      30.6 9.3 e0\n",
      " 2 36001000100 Census Tract 1; Albany County; New York  med_age…     35.7 3.65e1\n",
      " 3 36001000100 Census Tract 1; Albany County; New York  populat…   2259   5.12e2\n",
      " 4 36001000100 Census Tract 1; Albany County; New York  med_inc   44547   1.12e4\n",
      " 5 36001000100 Census Tract 1; Albany County; New York  asian        30   3.4 e1\n",
      " 6 36001000201 Census Tract 2.01; Albany County; New Y… med_age      39.8 8.4 e0\n",
      " 7 36001000201 Census Tract 2.01; Albany County; New Y… med_age…     65.2 3.22e1\n",
      " 8 36001000201 Census Tract 2.01; Albany County; New Y… populat…   2465   6.08e2\n",
      " 9 36001000201 Census Tract 2.01; Albany County; New Y… med_inc   33688   1.59e4\n",
      "10 36001000201 Census Tract 2.01; Albany County; New Y… asian       102   1.15e2\n",
      "# ℹ 27,045 more rows\n",
      "# ℹ Use `print(n = ...)` to see more rows\n"
     ]
    },
    {
     "data": {
      "text/plain": [
       "Getting data from the 2018-2022 5-year ACS\n",
       "Using FIPS code '36' for state 'NY'\n"
      ]
     },
     "metadata": {},
     "output_type": "display_data"
    }
   ],
   "source": [
    "%%R \n",
    "# the variable B01003_001E was selectd from the census table \n",
    "# for population, which we found in censusreporter here:\n",
    "# https://censusreporter.org/tables/B01003/\n",
    "\n",
    "# in the table below, pick the geography, the variables, and the survey you want to pull from\n",
    "# see the possible values here https://walker-data.com/tidycensus/articles/basic-usage.html\n",
    "\n",
    "# Get variable from ACS\n",
    "ny_census_data <- get_acs(geography = \"tract\", \n",
    "                      state='NY',\n",
    "                      variables = c(\n",
    "                        population=\"B01003_001\",\n",
    "                        med_inc=\"B19013_001\",\n",
    "                        asian = \"C02003_006\", \n",
    "                        med_age = \"B01002_001\", \n",
    "                        med_age_asian = \"B01002D_001\" \n",
    "                      ), \n",
    "                      year = 2022,\n",
    "                      survey=\"acs5\",\n",
    "                      geometry=F)\n",
    "\n",
    "ny_census_data"
   ]
  },
  {
   "cell_type": "markdown",
   "metadata": {},
   "source": [
    "## 👉 Merge it with your data\n",
    "\n",
    "hint...`tidycensus` provides you data in long format you may need to pivot the census data from long to wide format before merging it with your data"
   ]
  },
  {
   "cell_type": "code",
   "execution_count": 18,
   "metadata": {},
   "outputs": [
    {
     "name": "stdout",
     "output_type": "stream",
     "text": [
      "# A tibble: 5,411 × 12\n",
      "   GEOID       NAME  med_age_estimate med_age_asian_estimate population_estimate\n",
      "   <chr>       <chr>            <dbl>                  <dbl>               <dbl>\n",
      " 1 36001000100 Cens…             30.6                   35.7                2259\n",
      " 2 36001000201 Cens…             39.8                   65.2                2465\n",
      " 3 36001000202 Cens…             35.3                   NA                  2374\n",
      " 4 36001000301 Cens…             42.1                   28                  2837\n",
      " 5 36001000302 Cens…             33.1                   31.3                3200\n",
      " 6 36001000401 Cens…             62.6                   39.4                2301\n",
      " 7 36001000403 Cens…             41.9                   23                  4348\n",
      " 8 36001000404 Cens…             19.9                   18.9                5126\n",
      " 9 36001000501 Cens…             29.6                   37.5                3471\n",
      "10 36001000502 Cens…             21.8                   22.5                3788\n",
      "# ℹ 5,401 more rows\n",
      "# ℹ 7 more variables: med_inc_estimate <dbl>, asian_estimate <dbl>,\n",
      "#   med_age_moe <dbl>, med_age_asian_moe <dbl>, population_moe <dbl>,\n",
      "#   med_inc_moe <dbl>, asian_moe <dbl>\n",
      "# ℹ Use `print(n = ...)` to see more rows\n"
     ]
    }
   ],
   "source": [
    "%%R \n",
    "\n",
    "ny_census_data <- ny_census_data %>% \n",
    "  # pivot from wide to long\n",
    "  pivot_wider(\n",
    "    names_from=variable, \n",
    "    values_from = c(estimate, moe),\n",
    "    names_glue = \"{variable}_{.value}\"\n",
    "  )\n",
    "\n",
    "ny_census_data"
   ]
  },
  {
   "cell_type": "code",
   "execution_count": 19,
   "metadata": {},
   "outputs": [],
   "source": [
    "%%R\n",
    "ny_census_data <- ny_census_data %>%\n",
    "    mutate(\n",
    "        # borough = str_split(NAME, \";\") %>% map_chr(3) %>% str_trim(),\n",
    "        asian_pct = asian_estimate / population_estimate\n",
    "    )"
   ]
  },
  {
   "cell_type": "code",
   "execution_count": 21,
   "metadata": {},
   "outputs": [
    {
     "name": "stdout",
     "output_type": "stream",
     "text": [
      "# A tibble: 5,411 × 13\n",
      "   GEOID       NAME  med_age_estimate med_age_asian_estimate population_estimate\n",
      "   <chr>       <chr>            <dbl>                  <dbl>               <dbl>\n",
      " 1 36001000100 Cens…             30.6                   35.7                2259\n",
      " 2 36001000201 Cens…             39.8                   65.2                2465\n",
      " 3 36001000202 Cens…             35.3                   NA                  2374\n",
      " 4 36001000301 Cens…             42.1                   28                  2837\n",
      " 5 36001000302 Cens…             33.1                   31.3                3200\n",
      " 6 36001000401 Cens…             62.6                   39.4                2301\n",
      " 7 36001000403 Cens…             41.9                   23                  4348\n",
      " 8 36001000404 Cens…             19.9                   18.9                5126\n",
      " 9 36001000501 Cens…             29.6                   37.5                3471\n",
      "10 36001000502 Cens…             21.8                   22.5                3788\n",
      "# ℹ 5,401 more rows\n",
      "# ℹ 8 more variables: med_inc_estimate <dbl>, asian_estimate <dbl>,\n",
      "#   med_age_moe <dbl>, med_age_asian_moe <dbl>, population_moe <dbl>,\n",
      "#   med_inc_moe <dbl>, asian_moe <dbl>, asian_pct <dbl>\n",
      "# ℹ Use `print(n = ...)` to see more rows\n"
     ]
    }
   ],
   "source": [
    "%%R -o ny_census_data\n",
    "\n",
    "ny_census_data"
   ]
  },
  {
   "cell_type": "code",
   "execution_count": 13,
   "metadata": {},
   "outputs": [],
   "source": [
    "%%R\n",
    "\n",
    "# Drop NAME and geometry columns\n",
    "ny_census_data <- ny_census_data %>% \n",
    "    select(-c(NAME))"
   ]
  },
  {
   "cell_type": "code",
   "execution_count": 26,
   "metadata": {},
   "outputs": [],
   "source": [
    "%%R\n",
    "\n",
    "# Optionally, ensure key columns are of the same type\n",
    "ny_census_data $GEOID <- as.character(ny_census_data $GEOID)\n",
    "mortgage_data_asian$census_tract <- as.character(mortgage_data_asian$census_tract)\n",
    "\n",
    "# Perform the left join\n",
    "joined_data <- left_join(ny_census_data , mortgage_data_asian, by = c(\"GEOID\" = \"census_tract\"))"
   ]
  },
  {
   "cell_type": "code",
   "execution_count": 27,
   "metadata": {},
   "outputs": [
    {
     "name": "stdout",
     "output_type": "stream",
     "text": [
      "# A tibble: 174,066 × 25\n",
      "   GEOID       NAME  med_age_estimate med_age_asian_estimate population_estimate\n",
      "   <chr>       <chr>            <dbl>                  <dbl>               <dbl>\n",
      " 1 36001000100 Cens…             30.6                   35.7                2259\n",
      " 2 36001000100 Cens…             30.6                   35.7                2259\n",
      " 3 36001000100 Cens…             30.6                   35.7                2259\n",
      " 4 36001000100 Cens…             30.6                   35.7                2259\n",
      " 5 36001000100 Cens…             30.6                   35.7                2259\n",
      " 6 36001000100 Cens…             30.6                   35.7                2259\n",
      " 7 36001000100 Cens…             30.6                   35.7                2259\n",
      " 8 36001000100 Cens…             30.6                   35.7                2259\n",
      " 9 36001000100 Cens…             30.6                   35.7                2259\n",
      "10 36001000100 Cens…             30.6                   35.7                2259\n",
      "# ℹ 174,056 more rows\n",
      "# ℹ 20 more variables: med_inc_estimate <dbl>, asian_estimate <dbl>,\n",
      "#   med_age_moe <dbl>, med_age_asian_moe <dbl>, population_moe <dbl>,\n",
      "#   med_inc_moe <dbl>, asian_moe <dbl>, asian_pct <dbl>, activity_year <int>,\n",
      "#   loan_type <int>, loan_purpose <int>, loan_amount <int>, income <int>,\n",
      "#   property_value <chr>, applicant_race.1 <int>, co.applicant_race.1 <int>,\n",
      "#   applicant_sex <int>, co.applicant_sex <int>, applicant_age <chr>, …\n",
      "# ℹ Use `print(n = ...)` to see more rows\n"
     ]
    }
   ],
   "source": [
    "%%R -o joined_data\n",
    "\n",
    "joined_data"
   ]
  },
  {
   "cell_type": "code",
   "execution_count": 30,
   "metadata": {},
   "outputs": [
    {
     "data": {
      "text/plain": [
       "Index(['GEOID', 'NAME', 'med_age_estimate', 'med_age_asian_estimate',\n",
       "       'population_estimate', 'med_inc_estimate', 'asian_estimate',\n",
       "       'med_age_moe', 'med_age_asian_moe', 'population_moe', 'med_inc_moe',\n",
       "       'asian_moe', 'asian_pct', 'activity_year', 'loan_type', 'loan_purpose',\n",
       "       'loan_amount', 'income', 'property_value', 'applicant_race.1',\n",
       "       'co.applicant_race.1', 'applicant_sex', 'co.applicant_sex',\n",
       "       'applicant_age', 'co.applicant_age'],\n",
       "      dtype='object')"
      ]
     },
     "execution_count": 30,
     "metadata": {},
     "output_type": "execute_result"
    }
   ],
   "source": [
    "joined_data.columns"
   ]
  },
  {
   "cell_type": "code",
   "execution_count": 31,
   "metadata": {},
   "outputs": [],
   "source": [
    "%%R\n",
    "\n",
    "# Write the joined dataframe to a CSV file\n",
    "\n",
    "\n",
    "write.csv(joined_data, \"joined_data.csv\", row.names = FALSE)"
   ]
  },
  {
   "cell_type": "code",
   "execution_count": 33,
   "metadata": {},
   "outputs": [
    {
     "data": {
      "text/html": [
       "<div>\n",
       "<style scoped>\n",
       "    .dataframe tbody tr th:only-of-type {\n",
       "        vertical-align: middle;\n",
       "    }\n",
       "\n",
       "    .dataframe tbody tr th {\n",
       "        vertical-align: top;\n",
       "    }\n",
       "\n",
       "    .dataframe thead th {\n",
       "        text-align: right;\n",
       "    }\n",
       "</style>\n",
       "<table border=\"1\" class=\"dataframe\">\n",
       "  <thead>\n",
       "    <tr style=\"text-align: right;\">\n",
       "      <th></th>\n",
       "      <th>GEOID</th>\n",
       "      <th>NAME</th>\n",
       "      <th>med_age_estimate</th>\n",
       "      <th>med_age_asian_estimate</th>\n",
       "      <th>population_estimate</th>\n",
       "      <th>med_inc_estimate</th>\n",
       "      <th>asian_estimate</th>\n",
       "      <th>med_age_moe</th>\n",
       "      <th>med_age_asian_moe</th>\n",
       "      <th>population_moe</th>\n",
       "      <th>...</th>\n",
       "      <th>loan_purpose</th>\n",
       "      <th>loan_amount</th>\n",
       "      <th>income</th>\n",
       "      <th>property_value</th>\n",
       "      <th>applicant_race.1</th>\n",
       "      <th>co.applicant_race.1</th>\n",
       "      <th>applicant_sex</th>\n",
       "      <th>co.applicant_sex</th>\n",
       "      <th>applicant_age</th>\n",
       "      <th>co.applicant_age</th>\n",
       "    </tr>\n",
       "  </thead>\n",
       "  <tbody>\n",
       "    <tr>\n",
       "      <th>0</th>\n",
       "      <td>36001000100</td>\n",
       "      <td>Census Tract 1; Albany County; New York</td>\n",
       "      <td>30.6</td>\n",
       "      <td>35.7</td>\n",
       "      <td>2259</td>\n",
       "      <td>44547.0</td>\n",
       "      <td>30</td>\n",
       "      <td>9.3</td>\n",
       "      <td>36.5</td>\n",
       "      <td>512</td>\n",
       "      <td>...</td>\n",
       "      <td>1.0</td>\n",
       "      <td>105000.0</td>\n",
       "      <td>35.0</td>\n",
       "      <td>175000</td>\n",
       "      <td>3.0</td>\n",
       "      <td>8.0</td>\n",
       "      <td>2.0</td>\n",
       "      <td>5.0</td>\n",
       "      <td>8888</td>\n",
       "      <td>9999</td>\n",
       "    </tr>\n",
       "    <tr>\n",
       "      <th>1</th>\n",
       "      <td>36001000100</td>\n",
       "      <td>Census Tract 1; Albany County; New York</td>\n",
       "      <td>30.6</td>\n",
       "      <td>35.7</td>\n",
       "      <td>2259</td>\n",
       "      <td>44547.0</td>\n",
       "      <td>30</td>\n",
       "      <td>9.3</td>\n",
       "      <td>36.5</td>\n",
       "      <td>512</td>\n",
       "      <td>...</td>\n",
       "      <td>1.0</td>\n",
       "      <td>175000.0</td>\n",
       "      <td>24.0</td>\n",
       "      <td>Exempt</td>\n",
       "      <td>5.0</td>\n",
       "      <td>8.0</td>\n",
       "      <td>1.0</td>\n",
       "      <td>5.0</td>\n",
       "      <td>45-54</td>\n",
       "      <td>9999</td>\n",
       "    </tr>\n",
       "    <tr>\n",
       "      <th>2</th>\n",
       "      <td>36001000100</td>\n",
       "      <td>Census Tract 1; Albany County; New York</td>\n",
       "      <td>30.6</td>\n",
       "      <td>35.7</td>\n",
       "      <td>2259</td>\n",
       "      <td>44547.0</td>\n",
       "      <td>30</td>\n",
       "      <td>9.3</td>\n",
       "      <td>36.5</td>\n",
       "      <td>512</td>\n",
       "      <td>...</td>\n",
       "      <td>1.0</td>\n",
       "      <td>195000.0</td>\n",
       "      <td>118.0</td>\n",
       "      <td>Exempt</td>\n",
       "      <td>5.0</td>\n",
       "      <td>8.0</td>\n",
       "      <td>1.0</td>\n",
       "      <td>5.0</td>\n",
       "      <td>&lt;25</td>\n",
       "      <td>9999</td>\n",
       "    </tr>\n",
       "    <tr>\n",
       "      <th>3</th>\n",
       "      <td>36001000100</td>\n",
       "      <td>Census Tract 1; Albany County; New York</td>\n",
       "      <td>30.6</td>\n",
       "      <td>35.7</td>\n",
       "      <td>2259</td>\n",
       "      <td>44547.0</td>\n",
       "      <td>30</td>\n",
       "      <td>9.3</td>\n",
       "      <td>36.5</td>\n",
       "      <td>512</td>\n",
       "      <td>...</td>\n",
       "      <td>1.0</td>\n",
       "      <td>175000.0</td>\n",
       "      <td>37.0</td>\n",
       "      <td>175000</td>\n",
       "      <td>3.0</td>\n",
       "      <td>8.0</td>\n",
       "      <td>2.0</td>\n",
       "      <td>5.0</td>\n",
       "      <td>25-34</td>\n",
       "      <td>9999</td>\n",
       "    </tr>\n",
       "    <tr>\n",
       "      <th>4</th>\n",
       "      <td>36001000100</td>\n",
       "      <td>Census Tract 1; Albany County; New York</td>\n",
       "      <td>30.6</td>\n",
       "      <td>35.7</td>\n",
       "      <td>2259</td>\n",
       "      <td>44547.0</td>\n",
       "      <td>30</td>\n",
       "      <td>9.3</td>\n",
       "      <td>36.5</td>\n",
       "      <td>512</td>\n",
       "      <td>...</td>\n",
       "      <td>1.0</td>\n",
       "      <td>155000.0</td>\n",
       "      <td>115.0</td>\n",
       "      <td>205000</td>\n",
       "      <td>6.0</td>\n",
       "      <td>8.0</td>\n",
       "      <td>1.0</td>\n",
       "      <td>5.0</td>\n",
       "      <td>35-44</td>\n",
       "      <td>9999</td>\n",
       "    </tr>\n",
       "    <tr>\n",
       "      <th>...</th>\n",
       "      <td>...</td>\n",
       "      <td>...</td>\n",
       "      <td>...</td>\n",
       "      <td>...</td>\n",
       "      <td>...</td>\n",
       "      <td>...</td>\n",
       "      <td>...</td>\n",
       "      <td>...</td>\n",
       "      <td>...</td>\n",
       "      <td>...</td>\n",
       "      <td>...</td>\n",
       "      <td>...</td>\n",
       "      <td>...</td>\n",
       "      <td>...</td>\n",
       "      <td>...</td>\n",
       "      <td>...</td>\n",
       "      <td>...</td>\n",
       "      <td>...</td>\n",
       "      <td>...</td>\n",
       "      <td>...</td>\n",
       "      <td>...</td>\n",
       "    </tr>\n",
       "    <tr>\n",
       "      <th>174061</th>\n",
       "      <td>36123150502</td>\n",
       "      <td>Census Tract 1505.02; Yates County; New York</td>\n",
       "      <td>47.8</td>\n",
       "      <td>NaN</td>\n",
       "      <td>2587</td>\n",
       "      <td>70179.0</td>\n",
       "      <td>0</td>\n",
       "      <td>2.1</td>\n",
       "      <td>NaN</td>\n",
       "      <td>281</td>\n",
       "      <td>...</td>\n",
       "      <td>1.0</td>\n",
       "      <td>645000.0</td>\n",
       "      <td>300.0</td>\n",
       "      <td>995000</td>\n",
       "      <td>5.0</td>\n",
       "      <td>8.0</td>\n",
       "      <td>1.0</td>\n",
       "      <td>5.0</td>\n",
       "      <td>35-44</td>\n",
       "      <td>9999</td>\n",
       "    </tr>\n",
       "    <tr>\n",
       "      <th>174062</th>\n",
       "      <td>36123150502</td>\n",
       "      <td>Census Tract 1505.02; Yates County; New York</td>\n",
       "      <td>47.8</td>\n",
       "      <td>NaN</td>\n",
       "      <td>2587</td>\n",
       "      <td>70179.0</td>\n",
       "      <td>0</td>\n",
       "      <td>2.1</td>\n",
       "      <td>NaN</td>\n",
       "      <td>281</td>\n",
       "      <td>...</td>\n",
       "      <td>1.0</td>\n",
       "      <td>1005000.0</td>\n",
       "      <td>NaN</td>\n",
       "      <td>2205000</td>\n",
       "      <td>7.0</td>\n",
       "      <td>7.0</td>\n",
       "      <td>4.0</td>\n",
       "      <td>4.0</td>\n",
       "      <td>8888</td>\n",
       "      <td>8888</td>\n",
       "    </tr>\n",
       "    <tr>\n",
       "      <th>174063</th>\n",
       "      <td>36123150502</td>\n",
       "      <td>Census Tract 1505.02; Yates County; New York</td>\n",
       "      <td>47.8</td>\n",
       "      <td>NaN</td>\n",
       "      <td>2587</td>\n",
       "      <td>70179.0</td>\n",
       "      <td>0</td>\n",
       "      <td>2.1</td>\n",
       "      <td>NaN</td>\n",
       "      <td>281</td>\n",
       "      <td>...</td>\n",
       "      <td>1.0</td>\n",
       "      <td>795000.0</td>\n",
       "      <td>NaN</td>\n",
       "      <td>995000</td>\n",
       "      <td>7.0</td>\n",
       "      <td>7.0</td>\n",
       "      <td>4.0</td>\n",
       "      <td>4.0</td>\n",
       "      <td>8888</td>\n",
       "      <td>8888</td>\n",
       "    </tr>\n",
       "    <tr>\n",
       "      <th>174064</th>\n",
       "      <td>36123150502</td>\n",
       "      <td>Census Tract 1505.02; Yates County; New York</td>\n",
       "      <td>47.8</td>\n",
       "      <td>NaN</td>\n",
       "      <td>2587</td>\n",
       "      <td>70179.0</td>\n",
       "      <td>0</td>\n",
       "      <td>2.1</td>\n",
       "      <td>NaN</td>\n",
       "      <td>281</td>\n",
       "      <td>...</td>\n",
       "      <td>1.0</td>\n",
       "      <td>405000.0</td>\n",
       "      <td>NaN</td>\n",
       "      <td>485000</td>\n",
       "      <td>7.0</td>\n",
       "      <td>7.0</td>\n",
       "      <td>4.0</td>\n",
       "      <td>4.0</td>\n",
       "      <td>8888</td>\n",
       "      <td>8888</td>\n",
       "    </tr>\n",
       "    <tr>\n",
       "      <th>174065</th>\n",
       "      <td>36123150502</td>\n",
       "      <td>Census Tract 1505.02; Yates County; New York</td>\n",
       "      <td>47.8</td>\n",
       "      <td>NaN</td>\n",
       "      <td>2587</td>\n",
       "      <td>70179.0</td>\n",
       "      <td>0</td>\n",
       "      <td>2.1</td>\n",
       "      <td>NaN</td>\n",
       "      <td>281</td>\n",
       "      <td>...</td>\n",
       "      <td>1.0</td>\n",
       "      <td>345000.0</td>\n",
       "      <td>300.0</td>\n",
       "      <td>NaN</td>\n",
       "      <td>5.0</td>\n",
       "      <td>8.0</td>\n",
       "      <td>1.0</td>\n",
       "      <td>5.0</td>\n",
       "      <td>35-44</td>\n",
       "      <td>9999</td>\n",
       "    </tr>\n",
       "  </tbody>\n",
       "</table>\n",
       "<p>174066 rows × 25 columns</p>\n",
       "</div>"
      ],
      "text/plain": [
       "              GEOID                                          NAME  \\\n",
       "0       36001000100       Census Tract 1; Albany County; New York   \n",
       "1       36001000100       Census Tract 1; Albany County; New York   \n",
       "2       36001000100       Census Tract 1; Albany County; New York   \n",
       "3       36001000100       Census Tract 1; Albany County; New York   \n",
       "4       36001000100       Census Tract 1; Albany County; New York   \n",
       "...             ...                                           ...   \n",
       "174061  36123150502  Census Tract 1505.02; Yates County; New York   \n",
       "174062  36123150502  Census Tract 1505.02; Yates County; New York   \n",
       "174063  36123150502  Census Tract 1505.02; Yates County; New York   \n",
       "174064  36123150502  Census Tract 1505.02; Yates County; New York   \n",
       "174065  36123150502  Census Tract 1505.02; Yates County; New York   \n",
       "\n",
       "        med_age_estimate  med_age_asian_estimate  population_estimate  \\\n",
       "0                   30.6                    35.7                 2259   \n",
       "1                   30.6                    35.7                 2259   \n",
       "2                   30.6                    35.7                 2259   \n",
       "3                   30.6                    35.7                 2259   \n",
       "4                   30.6                    35.7                 2259   \n",
       "...                  ...                     ...                  ...   \n",
       "174061              47.8                     NaN                 2587   \n",
       "174062              47.8                     NaN                 2587   \n",
       "174063              47.8                     NaN                 2587   \n",
       "174064              47.8                     NaN                 2587   \n",
       "174065              47.8                     NaN                 2587   \n",
       "\n",
       "        med_inc_estimate  asian_estimate  med_age_moe  med_age_asian_moe  \\\n",
       "0                44547.0              30          9.3               36.5   \n",
       "1                44547.0              30          9.3               36.5   \n",
       "2                44547.0              30          9.3               36.5   \n",
       "3                44547.0              30          9.3               36.5   \n",
       "4                44547.0              30          9.3               36.5   \n",
       "...                  ...             ...          ...                ...   \n",
       "174061           70179.0               0          2.1                NaN   \n",
       "174062           70179.0               0          2.1                NaN   \n",
       "174063           70179.0               0          2.1                NaN   \n",
       "174064           70179.0               0          2.1                NaN   \n",
       "174065           70179.0               0          2.1                NaN   \n",
       "\n",
       "        population_moe  ...  loan_purpose  loan_amount  income  \\\n",
       "0                  512  ...           1.0     105000.0    35.0   \n",
       "1                  512  ...           1.0     175000.0    24.0   \n",
       "2                  512  ...           1.0     195000.0   118.0   \n",
       "3                  512  ...           1.0     175000.0    37.0   \n",
       "4                  512  ...           1.0     155000.0   115.0   \n",
       "...                ...  ...           ...          ...     ...   \n",
       "174061             281  ...           1.0     645000.0   300.0   \n",
       "174062             281  ...           1.0    1005000.0     NaN   \n",
       "174063             281  ...           1.0     795000.0     NaN   \n",
       "174064             281  ...           1.0     405000.0     NaN   \n",
       "174065             281  ...           1.0     345000.0   300.0   \n",
       "\n",
       "        property_value  applicant_race.1  co.applicant_race.1  applicant_sex  \\\n",
       "0               175000               3.0                  8.0            2.0   \n",
       "1               Exempt               5.0                  8.0            1.0   \n",
       "2               Exempt               5.0                  8.0            1.0   \n",
       "3               175000               3.0                  8.0            2.0   \n",
       "4               205000               6.0                  8.0            1.0   \n",
       "...                ...               ...                  ...            ...   \n",
       "174061          995000               5.0                  8.0            1.0   \n",
       "174062         2205000               7.0                  7.0            4.0   \n",
       "174063          995000               7.0                  7.0            4.0   \n",
       "174064          485000               7.0                  7.0            4.0   \n",
       "174065             NaN               5.0                  8.0            1.0   \n",
       "\n",
       "        co.applicant_sex applicant_age  co.applicant_age  \n",
       "0                    5.0          8888              9999  \n",
       "1                    5.0         45-54              9999  \n",
       "2                    5.0           <25              9999  \n",
       "3                    5.0         25-34              9999  \n",
       "4                    5.0         35-44              9999  \n",
       "...                  ...           ...               ...  \n",
       "174061               5.0         35-44              9999  \n",
       "174062               4.0          8888              8888  \n",
       "174063               4.0          8888              8888  \n",
       "174064               4.0          8888              8888  \n",
       "174065               5.0         35-44              9999  \n",
       "\n",
       "[174066 rows x 25 columns]"
      ]
     },
     "execution_count": 33,
     "metadata": {},
     "output_type": "execute_result"
    }
   ],
   "source": []
  }
 ],
 "metadata": {
  "kernelspec": {
   "display_name": "Python 3 (ipykernel)",
   "language": "python",
   "name": "python3"
  },
  "language_info": {
   "codemirror_mode": {
    "name": "ipython",
    "version": 3
   },
   "file_extension": ".py",
   "mimetype": "text/x-python",
   "name": "python",
   "nbconvert_exporter": "python",
   "pygments_lexer": "ipython3",
   "version": "3.11.6"
  }
 },
 "nbformat": 4,
 "nbformat_minor": 4
}
