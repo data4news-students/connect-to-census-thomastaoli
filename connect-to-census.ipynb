{
 "cells": [
  {
   "cell_type": "markdown",
   "metadata": {},
   "source": [
    "# Notebook Title"
   ]
  },
  {
   "cell_type": "markdown",
   "metadata": {},
   "source": [
    "## Setup Python and R environment\n",
    "you can ignore this section"
   ]
  },
  {
   "cell_type": "code",
   "execution_count": 1,
   "metadata": {},
   "outputs": [],
   "source": [
    "%load_ext rpy2.ipython\n",
    "%load_ext autoreload\n",
    "%autoreload 2\n",
    "\n",
    "%matplotlib inline  \n",
    "from matplotlib import rcParams\n",
    "rcParams['figure.figsize'] = (16, 100)\n",
    "\n",
    "import warnings\n",
    "from rpy2.rinterface import RRuntimeWarning\n",
    "warnings.filterwarnings(\"ignore\") # Ignore all warnings\n",
    "# warnings.filterwarnings(\"ignore\", category=RRuntimeWarning) # Show some warnings\n",
    "\n",
    "import pandas as pd\n",
    "import numpy as np\n",
    "import matplotlib.pyplot as plt\n",
    "from IPython.display import display, HTML"
   ]
  },
  {
   "cell_type": "code",
   "execution_count": 2,
   "metadata": {},
   "outputs": [
    {
     "data": {
      "application/javascript": "// Disable auto-scrolling\nIPython.OutputArea.prototype._should_scroll = function(lines) {\n    return false;\n}\n",
      "text/plain": [
       "<IPython.core.display.Javascript object>"
      ]
     },
     "metadata": {},
     "output_type": "display_data"
    }
   ],
   "source": [
    "%%javascript\n",
    "// Disable auto-scrolling\n",
    "IPython.OutputArea.prototype._should_scroll = function(lines) {\n",
    "    return false;\n",
    "}"
   ]
  },
  {
   "cell_type": "code",
   "execution_count": 3,
   "metadata": {},
   "outputs": [
    {
     "name": "stdout",
     "output_type": "stream",
     "text": [
      "── Attaching core tidyverse packages ──────────────────────── tidyverse 2.0.0 ──\n",
      "✔ dplyr     1.1.4     ✔ readr     2.1.5\n",
      "✔ forcats   1.0.0     ✔ stringr   1.5.1\n",
      "✔ ggplot2   3.4.4     ✔ tibble    3.2.1\n",
      "✔ lubridate 1.9.3     ✔ tidyr     1.3.0\n",
      "✔ purrr     1.0.2     \n",
      "── Conflicts ────────────────────────────────────────── tidyverse_conflicts() ──\n",
      "✖ dplyr::filter() masks stats::filter()\n",
      "✖ dplyr::lag()    masks stats::lag()\n",
      "ℹ Use the conflicted package (<http://conflicted.r-lib.org/>) to force all conflicts to become errors\n"
     ]
    },
    {
     "data": {
      "text/plain": [
       "Loading required package: tidyverse\n",
       "In addition: Warning messages:\n",
       "1: package ‘readr’ was built under R version 4.2.3 \n",
       "2: package ‘dplyr’ was built under R version 4.2.3 \n",
       "3: package ‘stringr’ was built under R version 4.2.3 \n"
      ]
     },
     "metadata": {},
     "output_type": "display_data"
    }
   ],
   "source": [
    "%%R\n",
    "\n",
    "# My commonly used R imports\n",
    "\n",
    "require('tidyverse')"
   ]
  },
  {
   "cell_type": "markdown",
   "metadata": {},
   "source": [
    "## 👉 download your data\n",
    "\n",
    "You can write code here to download your dataset. Or if you already have it, just leave the URL in the comments and just load it into a pandas or R (or both) dataframe."
   ]
  },
  {
   "cell_type": "code",
   "execution_count": 4,
   "metadata": {},
   "outputs": [
    {
     "name": "stdout",
     "output_type": "stream",
     "text": [
      "Rows: 548905 Columns: 99\n",
      "── Column specification ────────────────────────────────────────────────────────\n",
      "Delimiter: \",\"\n",
      "chr (27): lei, state_code, conforming_loan_limit, derived_loan_product_type,...\n",
      "dbl (64): activity_year, derived_msa-md, county_code, census_tract, action_t...\n",
      "lgl  (8): applicant_ethnicity-4, applicant_ethnicity-5, co-applicant_ethnici...\n",
      "\n",
      "ℹ Use `spec()` to retrieve the full column specification for this data.\n",
      "ℹ Specify the column types or set `show_col_types = FALSE` to quiet this message.\n",
      "# A tibble: 548,905 × 99\n",
      "   activity_year lei        `derived_msa-md` state_code county_code census_tract\n",
      "           <dbl> <chr>                 <dbl> <chr>            <dbl>        <dbl>\n",
      " 1          2022 5493000YN…            35614 NY               36005  36005045102\n",
      " 2          2022 5493006O6…                0 NY                  NA           NA\n",
      " 3          2022 5493006O6…                0 NY                  NA           NA\n",
      " 4          2022 5493006O6…                0 NY                  NA           NA\n",
      " 5          2022 5493006O6…                0 NY                  NA           NA\n",
      " 6          2022 5493000YN…            10580 NY               36091  36091061401\n",
      " 7          2022 5493000YN…            99999 NY               36003  36003951301\n",
      " 8          2022 5493000YN…            99999 NY               36013  36013037400\n",
      " 9          2022 5493000YN…            45060 NY               36075  36075020400\n",
      "10          2022 5493000YN…            10580 NY               36001  36001014803\n",
      "# ℹ 548,895 more rows\n",
      "# ℹ 93 more variables: conforming_loan_limit <chr>,\n",
      "#   derived_loan_product_type <chr>, derived_dwelling_category <chr>,\n",
      "#   derived_ethnicity <chr>, derived_race <chr>, derived_sex <chr>,\n",
      "#   action_taken <dbl>, purchaser_type <dbl>, preapproval <dbl>,\n",
      "#   loan_type <dbl>, loan_purpose <dbl>, lien_status <dbl>,\n",
      "#   reverse_mortgage <dbl>, `open-end_line_of_credit` <dbl>, …\n",
      "# ℹ Use `print(n = ...)` to see more rows\n"
     ]
    },
    {
     "data": {
      "text/plain": [
       "In addition: Warning message:\n",
       "One or more parsing issues, call `problems()` on your data frame for details,\n",
       "e.g.:\n",
       "  dat <- vroom(...)\n",
       "  problems(dat) \n"
      ]
     },
     "metadata": {},
     "output_type": "display_data"
    }
   ],
   "source": [
    "%%R\n",
    "# Load the ny_mortgage_data_2022.csv\n",
    "\n",
    "mortgage_data <- read_csv('ny_mortgage_data_2022.csv')\n",
    "mortgage_data"
   ]
  },
  {
   "cell_type": "code",
   "execution_count": 5,
   "metadata": {},
   "outputs": [
    {
     "name": "stdout",
     "output_type": "stream",
     "text": [
      "# A tibble: 548,905 × 13\n",
      "   activity_year census_tract loan_type loan_purpose loan_amount income\n",
      "           <dbl>        <dbl>     <dbl>        <dbl>       <dbl>  <dbl>\n",
      " 1          2022  36005045102         1            1      125000     39\n",
      " 2          2022           NA         1            1      215000     NA\n",
      " 3          2022           NA         1            1      415000     NA\n",
      " 4          2022           NA         1            1     1425000     NA\n",
      " 5          2022           NA         1           32      885000     NA\n",
      " 6          2022  36091061401         1            1       75000     NA\n",
      " 7          2022  36003951301         1            1      145000     NA\n",
      " 8          2022  36013037400         1            1       75000     NA\n",
      " 9          2022  36075020400         1            1      125000     NA\n",
      "10          2022  36001014803         1            1      165000     NA\n",
      "# ℹ 548,895 more rows\n",
      "# ℹ 7 more variables: property_value <chr>, `applicant_race-1` <dbl>,\n",
      "#   `co-applicant_race-1` <dbl>, applicant_sex <dbl>, `co-applicant_sex` <dbl>,\n",
      "#   applicant_age <chr>, `co-applicant_age` <chr>\n",
      "# ℹ Use `print(n = ...)` to see more rows\n"
     ]
    }
   ],
   "source": [
    "%%R\n",
    "\n",
    "# Keep only following columns: 'activity_year', 'census_tract','loan_type', 'loan_purpose', 'loan_amount', 'property_value', 'applicant_race_observed','co-applicant_race_observed','applicant_sex_observed','co-applicant_sex_observed','applicant_age','co-applicant_age'\n",
    "\n",
    "mortgage_data <- mortgage_data %>% select(\"activity_year\", \n",
    "                                          \"census_tract\", \n",
    "                                          \"loan_type\", \n",
    "                                          \"loan_purpose\", \n",
    "                                          \"loan_amount\",\n",
    "                                          \"income\",\n",
    "                                          \"property_value\", \n",
    "                                          \"applicant_race-1\",\n",
    "                                          \"co-applicant_race-1\",\n",
    "                                          \"applicant_sex\",\n",
    "                                          \"co-applicant_sex\",\n",
    "                                          \"applicant_age\",\n",
    "                                          \"co-applicant_age\")\n",
    "\n",
    "mortgage_data"
   ]
  },
  {
   "cell_type": "code",
   "execution_count": 7,
   "metadata": {},
   "outputs": [],
   "source": [
    "%%R\n",
    "\n",
    "# Select only Asian data and put into mortgage_data_asian\n",
    "# applicant_race-1 equals to 2 or 21 or 22 or 23 or 24 or 25 or 26 or 27\n",
    "# co-applicant_race-1 equals to 2 or 21 or 22 or 23 or 24 or 25 or 26 or 27 or 7 or 8\n",
    "\n",
    "mortgage_data_asian <- mortgage_data %>% \n",
    "  filter(`applicant_race-1` %in% c(2, 21, 22, 23, 24, 25, 26, 27) |\n",
    "         `co-applicant_race-1` %in% c(2, 21, 22, 23, 24, 25, 26, 27, 7, 8))"
   ]
  },
  {
   "cell_type": "markdown",
   "metadata": {},
   "source": [
    "## 👉 convert addresses --> lat/long \n",
    "\n",
    "See the [census-examples](https://github.com/data4news/census-examples) repository for examples. If you need help, try asking in the class slack channel. Chances are someone in the class is struggling with the same problem as you are so we might as well all learn together in the same slack channel! "
   ]
  },
  {
   "cell_type": "markdown",
   "metadata": {},
   "source": [
    "## 👉 convert lat/long to census geography codes \n",
    "\n",
    "(like 'GEOID', 'STATE', 'COUNTY', 'TRACT', 'BLOCK', etc...)\n",
    "\n",
    "Same note as above, see [census-examples](https://github.com/data4news/census-examples) repository for examples or ask in the class slack channel if stuck."
   ]
  },
  {
   "cell_type": "markdown",
   "metadata": {},
   "source": []
  },
  {
   "cell_type": "markdown",
   "metadata": {},
   "source": [
    "## 👉 Output Data\n",
    "\n",
    "Output your dataframe containing your data and the Census connector codes (like tract, block, etc...)."
   ]
  },
  {
   "cell_type": "markdown",
   "metadata": {},
   "source": [
    "(The data set I use already has census tract data)"
   ]
  },
  {
   "cell_type": "code",
   "execution_count": 8,
   "metadata": {},
   "outputs": [
    {
     "name": "stdout",
     "output_type": "stream",
     "text": [
      "# A tibble: 175,125 × 13\n",
      "   activity_year census_tract loan_type loan_purpose loan_amount income\n",
      "           <dbl>        <dbl>     <dbl>        <dbl>       <dbl>  <dbl>\n",
      " 1          2022           NA         1            1      215000     NA\n",
      " 2          2022           NA         1            1      415000     NA\n",
      " 3          2022           NA         1            1     1425000     NA\n",
      " 4          2022  36091061401         1            1       75000     NA\n",
      " 5          2022  36003951301         1            1      145000     NA\n",
      " 6          2022  36013037400         1            1       75000     NA\n",
      " 7          2022  36075020400         1            1      125000     NA\n",
      " 8          2022  36001014803         1            1      165000     NA\n",
      " 9          2022  36063024001         1            1      325000     NA\n",
      "10          2022  36111952800         1            1      175000     NA\n",
      "# ℹ 175,115 more rows\n",
      "# ℹ 7 more variables: property_value <chr>, `applicant_race-1` <dbl>,\n",
      "#   `co-applicant_race-1` <dbl>, applicant_sex <dbl>, `co-applicant_sex` <dbl>,\n",
      "#   applicant_age <chr>, `co-applicant_age` <chr>\n",
      "# ℹ Use `print(n = ...)` to see more rows\n"
     ]
    }
   ],
   "source": [
    "%%R \n",
    "\n",
    "#Filter out only purchase loans, loan_purpose equals to 1\n",
    "\n",
    "mortgage_data_asian <- mortgage_data_asian %>% filter(loan_purpose == 1)\n",
    "\n",
    "mortgage_data_asian"
   ]
  },
  {
   "cell_type": "code",
   "execution_count": 9,
   "metadata": {},
   "outputs": [],
   "source": [
    "%%R\n",
    "\n",
    "# Save the mortgage_data_asian into a csv file\n",
    "\n",
    "write_csv(mortgage_data_asian, 'mortgage_data_asian.csv')"
   ]
  }
 ],
 "metadata": {
  "kernelspec": {
   "display_name": "Python 3 (ipykernel)",
   "language": "python",
   "name": "python3"
  },
  "language_info": {
   "codemirror_mode": {
    "name": "ipython",
    "version": 3
   },
   "file_extension": ".py",
   "mimetype": "text/x-python",
   "name": "python",
   "nbconvert_exporter": "python",
   "pygments_lexer": "ipython3",
   "version": "3.11.6"
  }
 },
 "nbformat": 4,
 "nbformat_minor": 4
}
