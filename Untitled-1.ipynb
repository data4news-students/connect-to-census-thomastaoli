{
 "cells": [
  {
   "cell_type": "code",
   "execution_count": 1,
   "metadata": {},
   "outputs": [],
   "source": [
    "%load_ext rpy2.ipython\n",
    "%load_ext autoreload\n",
    "%autoreload 2\n",
    "\n",
    "%matplotlib inline  \n",
    "from matplotlib import rcParams\n",
    "rcParams['figure.figsize'] = (16, 100)\n",
    "\n",
    "import warnings\n",
    "from rpy2.rinterface import RRuntimeWarning\n",
    "warnings.filterwarnings(\"ignore\") # Ignore all warnings\n",
    "# warnings.filterwarnings(\"ignore\", category=RRuntimeWarning) # Show some warnings\n",
    "\n",
    "import pandas as pd\n",
    "import numpy as np\n",
    "import matplotlib.pyplot as plt\n",
    "from IPython.display import display, HTML"
   ]
  },
  {
   "cell_type": "code",
   "execution_count": 2,
   "metadata": {},
   "outputs": [
    {
     "data": {
      "application/javascript": "// Disable auto-scrolling\nIPython.OutputArea.prototype._should_scroll = function(lines) {\n    return false;\n}\n",
      "text/plain": [
       "<IPython.core.display.Javascript object>"
      ]
     },
     "metadata": {},
     "output_type": "display_data"
    }
   ],
   "source": [
    "%%javascript\n",
    "// Disable auto-scrolling\n",
    "IPython.OutputArea.prototype._should_scroll = function(lines) {\n",
    "    return false;\n",
    "}"
   ]
  },
  {
   "cell_type": "code",
   "execution_count": 3,
   "metadata": {},
   "outputs": [
    {
     "name": "stdout",
     "output_type": "stream",
     "text": [
      "── Attaching core tidyverse packages ──────────────────────── tidyverse 2.0.0 ──\n",
      "✔ dplyr     1.1.4     ✔ readr     2.1.5\n",
      "✔ forcats   1.0.0     ✔ stringr   1.5.1\n",
      "✔ ggplot2   3.4.4     ✔ tibble    3.2.1\n",
      "✔ lubridate 1.9.3     ✔ tidyr     1.3.0\n",
      "✔ purrr     1.0.2     \n",
      "── Conflicts ────────────────────────────────────────── tidyverse_conflicts() ──\n",
      "✖ dplyr::filter() masks stats::filter()\n",
      "✖ dplyr::lag()    masks stats::lag()\n",
      "ℹ Use the conflicted package (<http://conflicted.r-lib.org/>) to force all conflicts to become errors\n"
     ]
    },
    {
     "data": {
      "text/plain": [
       "Loading required package: tidyverse\n",
       "In addition: Warning messages:\n",
       "1: package ‘readr’ was built under R version 4.2.3 \n",
       "2: package ‘dplyr’ was built under R version 4.2.3 \n",
       "3: package ‘stringr’ was built under R version 4.2.3 \n"
      ]
     },
     "metadata": {},
     "output_type": "display_data"
    }
   ],
   "source": [
    "%%R\n",
    "\n",
    "# My commonly used R imports\n",
    "\n",
    "require('tidyverse')"
   ]
  },
  {
   "cell_type": "code",
   "execution_count": 5,
   "metadata": {},
   "outputs": [
    {
     "name": "stderr",
     "output_type": "stream",
     "text": [
      "Exception ignored from cffi callback <function _processevents at 0x105b84f40>:\n",
      "Traceback (most recent call last):\n",
      "  File \"/Users/thomaslee/.pyenv/versions/3.11.6/lib/python3.11/site-packages/rpy2/rinterface_lib/callbacks.py\", line 275, in _processevents\n",
      "    @ffi_proxy.callback(ffi_proxy._processevents_def,\n",
      "    \n",
      "KeyboardInterrupt: \n"
     ]
    },
    {
     "name": "stdout",
     "output_type": "stream",
     "text": [
      "Rows: 548905 Columns: 99\n",
      "── Column specification ────────────────────────────────────────────────────────\n",
      "Delimiter: \",\"\n",
      "chr (27): lei, state_code, conforming_loan_limit, derived_loan_product_type,...\n",
      "dbl (64): activity_year, derived_msa-md, county_code, census_tract, action_t...\n",
      "lgl  (8): applicant_ethnicity-4, applicant_ethnicity-5, co-applicant_ethnici...\n",
      "\n",
      "ℹ Use `spec()` to retrieve the full column specification for this data.\n",
      "ℹ Specify the column types or set `show_col_types = FALSE` to quiet this message.\n"
     ]
    },
    {
     "data": {
      "text/plain": [
       "In addition: Warning message:\n",
       "One or more parsing issues, call `problems()` on your data frame for details,\n",
       "e.g.:\n",
       "  dat <- vroom(...)\n",
       "  problems(dat) \n"
      ]
     },
     "metadata": {},
     "output_type": "display_data"
    }
   ],
   "source": [
    "%%R\n",
    "\n",
    "# Load the data from ny_mortgage_data_2022.csv\n",
    "mortgage_data <- read_csv('ny_mortgage_data_2022.csv')"
   ]
  },
  {
   "cell_type": "code",
   "execution_count": 6,
   "metadata": {},
   "outputs": [
    {
     "name": "stdout",
     "output_type": "stream",
     "text": [
      "# A tibble: 548,905 × 13\n",
      "   activity_year census_tract loan_type loan_purpose loan_amount income\n",
      "           <dbl>        <dbl>     <dbl>        <dbl>       <dbl>  <dbl>\n",
      " 1          2022  36005045102         1            1      125000     39\n",
      " 2          2022           NA         1            1      215000     NA\n",
      " 3          2022           NA         1            1      415000     NA\n",
      " 4          2022           NA         1            1     1425000     NA\n",
      " 5          2022           NA         1           32      885000     NA\n",
      " 6          2022  36091061401         1            1       75000     NA\n",
      " 7          2022  36003951301         1            1      145000     NA\n",
      " 8          2022  36013037400         1            1       75000     NA\n",
      " 9          2022  36075020400         1            1      125000     NA\n",
      "10          2022  36001014803         1            1      165000     NA\n",
      "# ℹ 548,895 more rows\n",
      "# ℹ 7 more variables: property_value <chr>, `applicant_race-1` <dbl>,\n",
      "#   `co-applicant_race-1` <dbl>, applicant_sex <dbl>, `co-applicant_sex` <dbl>,\n",
      "#   applicant_age <chr>, `co-applicant_age` <chr>\n",
      "# ℹ Use `print(n = ...)` to see more rows\n"
     ]
    }
   ],
   "source": [
    "%%R\n",
    "\n",
    "# Keep only following columns: 'activity_year', 'census_tract','loan_type', 'loan_purpose', 'loan_amount', 'property_value', 'applicant_race_observed','co-applicant_race_observed','applicant_sex_observed','co-applicant_sex_observed','applicant_age','co-applicant_age'\n",
    "\n",
    "mortgage_data <- mortgage_data %>% select(\"activity_year\", \n",
    "                                          \"census_tract\", \n",
    "                                          \"loan_type\", \n",
    "                                          \"loan_purpose\", \n",
    "                                          \"loan_amount\",\n",
    "                                          \"income\",\n",
    "                                          \"property_value\", \n",
    "                                          \"applicant_race-1\",\n",
    "                                          \"co-applicant_race-1\",\n",
    "                                          \"applicant_sex\",\n",
    "                                          \"co-applicant_sex\",\n",
    "                                          \"applicant_age\",\n",
    "                                          \"co-applicant_age\")\n",
    "\n",
    "mortgage_data"
   ]
  },
  {
   "cell_type": "code",
   "execution_count": 7,
   "metadata": {},
   "outputs": [],
   "source": [
    "%%R\n",
    "\n",
    "# Select only White data and put into mortgage_data_asian\n",
    "\n",
    "mortgage_data_white <- mortgage_data %>% \n",
    "  filter(`applicant_race-1` %in% c(5) |\n",
    "         `co-applicant_race-1` %in% c(5))"
   ]
  },
  {
   "cell_type": "code",
   "execution_count": 8,
   "metadata": {},
   "outputs": [],
   "source": [
    "%%R\n",
    "\n",
    "# Keep only loan_purpose = 1\n",
    "mortgage_data_white <- mortgage_data_white %>% filter(loan_purpose == 1)\n",
    "\n",
    "# Save the data to a CSV file\n",
    "write_csv(mortgage_data_white, 'mortgage_data_white.csv')"
   ]
  }
 ],
 "metadata": {
  "kernelspec": {
   "display_name": "Python 3",
   "language": "python",
   "name": "python3"
  },
  "language_info": {
   "codemirror_mode": {
    "name": "ipython",
    "version": 3
   },
   "file_extension": ".py",
   "mimetype": "text/x-python",
   "name": "python",
   "nbconvert_exporter": "python",
   "pygments_lexer": "ipython3",
   "version": "3.11.6"
  }
 },
 "nbformat": 4,
 "nbformat_minor": 2
}
